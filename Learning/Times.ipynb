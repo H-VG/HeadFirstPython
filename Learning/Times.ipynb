{
 "cells": [
  {
   "cell_type": "code",
   "execution_count": 2,
   "metadata": {},
   "outputs": [],
   "source": [
    "FN=\"Darius-13-100m-fly.txt\"\n",
    "FOLDER = \"third/chapter02/swimdata/swimdata/\""
   ]
  },
  {
   "cell_type": "code",
   "execution_count": 4,
   "metadata": {},
   "outputs": [
    {
     "data": {
      "text/plain": [
       "['Darius', '13', '100m', 'fly']"
      ]
     },
     "execution_count": 4,
     "metadata": {},
     "output_type": "execute_result"
    }
   ],
   "source": [
    "swimmer, age, distance, stroke  = FN.removesuffix(\".txt\").split(\"-\") "
   ]
  },
  {
   "cell_type": "code",
   "execution_count": 3,
   "metadata": {},
   "outputs": [],
   "source": [
    "with open(FOLDER + FN) as file:\n",
    "    lines = file.readlines()"
   ]
  },
  {
   "cell_type": "code",
   "execution_count": 17,
   "metadata": {},
   "outputs": [
    {
     "name": "stdout",
     "output_type": "stream",
     "text": [
      "['1:27.95', '1:21.07', '1:30.96', '1:23.22', '1:27.95', '1:28.30']\n"
     ]
    }
   ],
   "source": [
    "times = lines[0].strip().split(\",\")\n",
    "print(times)\n",
    "converts = []\n",
    "for t in times:\n",
    "    minutes, rest = t.split(\":\")\n",
    "    seconds,hundreths = rest.split(\".\")\n",
    "    convertedTime = (((int(minutes) * 60 * 100) + ((int(seconds)* 1* 100)) + int(hundreths)))\n",
    "    converts.append(convertedTime)\n",
    "    "
   ]
  },
  {
   "cell_type": "code",
   "execution_count": 11,
   "metadata": {},
   "outputs": [
    {
     "data": {
      "text/plain": [
       "'1:26.58'"
      ]
     },
     "execution_count": 11,
     "metadata": {},
     "output_type": "execute_result"
    }
   ],
   "source": [
    "import statistics\n",
    "average = statistics.mean(converts)\n",
    "average/100\n",
    "round(average/100,2)\n",
    "min_sec, hundreths = str(round(average /100,2)).split(\".\")\n",
    "min_sec = int(min_sec)\n",
    "minutes = min_sec // 60\n",
    "seconds = min_sec - minutes*60\n",
    "minutes,seconds,hundreths\n",
    "\n",
    "\n",
    "str(minutes) + \":\" + str(seconds) + \".\" + str(hundreths) "
   ]
  }
 ],
 "metadata": {
  "kernelspec": {
   "display_name": "Python 3",
   "language": "python",
   "name": "python3"
  },
  "language_info": {
   "codemirror_mode": {
    "name": "ipython",
    "version": 3
   },
   "file_extension": ".py",
   "mimetype": "text/x-python",
   "name": "python",
   "nbconvert_exporter": "python",
   "pygments_lexer": "ipython3",
   "version": "3.12.3"
  }
 },
 "nbformat": 4,
 "nbformat_minor": 2
}
