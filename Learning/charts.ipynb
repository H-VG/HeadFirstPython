{
 "cells": [
  {
   "cell_type": "code",
   "execution_count": 1,
   "metadata": {},
   "outputs": [],
   "source": [
    "import Swimclub"
   ]
  },
  {
   "cell_type": "code",
   "execution_count": 2,
   "metadata": {},
   "outputs": [],
   "source": [
    "fn=\"Darius-13-100m-fly.txt\""
   ]
  },
  {
   "cell_type": "code",
   "execution_count": 3,
   "metadata": {},
   "outputs": [],
   "source": [
    "(swimmer,age,distance,stroke,*_) = Swimclub.read_swim_data(fn)\n"
   ]
  },
  {
   "cell_type": "code",
   "execution_count": 4,
   "metadata": {},
   "outputs": [
    {
     "data": {
      "text/plain": [
       "'Darius (Under 13) 100m fly'"
      ]
     },
     "execution_count": 4,
     "metadata": {},
     "output_type": "execute_result"
    }
   ],
   "source": [
    "title = swimmer + \" (Under \" + age + \") \" + distance + \" \" + stroke\n",
    "title"
   ]
  },
  {
   "cell_type": "code",
   "execution_count": 5,
   "metadata": {},
   "outputs": [
    {
     "data": {
      "text/plain": [
       "'<!DOCTYPE html><html><head><title>Darius (Under 13) 100m fly</title></head><body><h3>Darius (Under 13) 100m fly</h3>'"
      ]
     },
     "execution_count": 5,
     "metadata": {},
     "output_type": "execute_result"
    }
   ],
   "source": [
    "html = \"<!DOCTYPE html><html><head><title>\" + title\n",
    "html = html + \"</title></head><body><h3>\" + title + \"</h3>\"\n",
    "html"
   ]
  },
  {
   "cell_type": "code",
   "execution_count": 6,
   "metadata": {},
   "outputs": [
    {
     "data": {
      "text/plain": [
       "'Darius (Under 13) 100m fly'"
      ]
     },
     "execution_count": 6,
     "metadata": {},
     "output_type": "execute_result"
    }
   ],
   "source": [
    "title = f\"{swimmer} (Under {age}) {distance} {stroke}\"\n",
    "title"
   ]
  },
  {
   "cell_type": "code",
   "execution_count": 7,
   "metadata": {},
   "outputs": [
    {
     "name": "stdout",
     "output_type": "stream",
     "text": [
      "\n",
      "<!DOCTYPE html>\n",
      "    <html>\n",
      "        <head>\n",
      "            <title>Darius (Under 13) 100m fly</title>\n",
      "        </head>\n",
      "        <body>\n",
      "        <h3>Darius (Under 13) 100m fly</h3>\n",
      "\n"
     ]
    }
   ],
   "source": [
    "html = f\"\"\"\n",
    "<!DOCTYPE html>\n",
    "    <html>\n",
    "        <head>\n",
    "            <title>{title}</title>\n",
    "        </head>\n",
    "        <body>\n",
    "        <h3>{title}</h3>\n",
    "\"\"\"\n",
    "    \n",
    "print(html)"
   ]
  },
  {
   "cell_type": "code",
   "execution_count": 8,
   "metadata": {},
   "outputs": [],
   "source": [
    "import hfpy_utils\n",
    "\n",
    "*_, times ,average,converts = Swimclub.read_swim_data(fn)\n",
    "from_max = max(converts)\n",
    "times.reverse\n",
    "converts.reverse\n",
    "svgs = \"\"\n",
    "for n,t in enumerate(times):\n",
    "    bar_width = hfpy_utils.convert2range(converts[n],0,from_max,0,350)\n",
    "    svgs = svgs +f\"\"\"\n",
    "                <svg height =\"30\" width=\"400\">\n",
    "                    <rect height=\"30\" width=\"{bar_width}\" style=\"fill:rgb(0,0,255);\" />\n",
    "                </svg>{t}<br />\n",
    "                \"\"\"\n"
   ]
  },
  {
   "cell_type": "code",
   "execution_count": 9,
   "metadata": {},
   "outputs": [
    {
     "name": "stdout",
     "output_type": "stream",
     "text": [
      "\n",
      "                <svg height =\"30\" width=\"400\">\n",
      "                    <rect height=\"30\" width=\"338.42\" style=\"fill:rgb(0,0,255);\" />\n",
      "                </svg>1:27.95<br />\n",
      "                \n",
      "                <svg height =\"30\" width=\"400\">\n",
      "                    <rect height=\"30\" width=\"311.94\" style=\"fill:rgb(0,0,255);\" />\n",
      "                </svg>1:21.07<br />\n",
      "                \n",
      "                <svg height =\"30\" width=\"400\">\n",
      "                    <rect height=\"30\" width=\"350.0\" style=\"fill:rgb(0,0,255);\" />\n",
      "                </svg>1:30.96<br />\n",
      "                \n",
      "                <svg height =\"30\" width=\"400\">\n",
      "                    <rect height=\"30\" width=\"320.22\" style=\"fill:rgb(0,0,255);\" />\n",
      "                </svg>1:23.22<br />\n",
      "                \n",
      "                <svg height =\"30\" width=\"400\">\n",
      "                    <rect height=\"30\" width=\"338.42\" style=\"fill:rgb(0,0,255);\" />\n",
      "                </svg>1:27.95<br />\n",
      "                \n",
      "                <svg height =\"30\" width=\"400\">\n",
      "                    <rect height=\"30\" width=\"339.76\" style=\"fill:rgb(0,0,255);\" />\n",
      "                </svg>1:28.30<br />\n",
      "                \n"
     ]
    }
   ],
   "source": [
    "print(svgs)"
   ]
  },
  {
   "cell_type": "code",
   "execution_count": 10,
   "metadata": {},
   "outputs": [],
   "source": [
    "footer = f\"\"\"\n",
    "            <p>Average time: {average}</p>\n",
    "        </body>\n",
    "    </html>\n",
    "    \"\"\""
   ]
  },
  {
   "cell_type": "code",
   "execution_count": 11,
   "metadata": {},
   "outputs": [],
   "source": [
    "page = html+svgs+footer"
   ]
  },
  {
   "cell_type": "code",
   "execution_count": 12,
   "metadata": {},
   "outputs": [],
   "source": [
    "save_to = f\"charts/{fn.removesuffix('.txt')}.html\"\n",
    "with open(save_to,\"w\") as sf:\n",
    "    print(page, file=sf)"
   ]
  },
  {
   "cell_type": "code",
   "execution_count": 13,
   "metadata": {},
   "outputs": [
    {
     "data": {
      "text/plain": [
       "True"
      ]
     },
     "execution_count": 13,
     "metadata": {},
     "output_type": "execute_result"
    }
   ],
   "source": [
    "import os\n",
    "import webbrowser\n",
    "\n",
    "webbrowser.open(\"file://\" + os.path.realpath(save_to))"
   ]
  },
  {
   "cell_type": "code",
   "execution_count": 14,
   "metadata": {},
   "outputs": [
    {
     "data": {
      "text/plain": [
       "'Charts/Lizzie-14-100m-back.html'"
      ]
     },
     "execution_count": 14,
     "metadata": {},
     "output_type": "execute_result"
    }
   ],
   "source": [
    "data = Swimclub.produce_bar_chart(\"Lizzie-14-100m-back.txt\")\n",
    "data"
   ]
  },
  {
   "cell_type": "code",
   "execution_count": 16,
   "metadata": {},
   "outputs": [
    {
     "data": {
      "text/plain": [
       "True"
      ]
     },
     "execution_count": 16,
     "metadata": {},
     "output_type": "execute_result"
    }
   ],
   "source": [
    "webbrowser.open(\"file://\" + os.path.realpath(data))"
   ]
  },
  {
   "cell_type": "code",
   "execution_count": null,
   "metadata": {},
   "outputs": [],
   "source": []
  }
 ],
 "metadata": {
  "kernelspec": {
   "display_name": "Python 3",
   "language": "python",
   "name": "python3"
  },
  "language_info": {
   "codemirror_mode": {
    "name": "ipython",
    "version": 3
   },
   "file_extension": ".py",
   "mimetype": "text/x-python",
   "name": "python",
   "nbconvert_exporter": "python",
   "pygments_lexer": "ipython3",
   "version": "3.12.3"
  }
 },
 "nbformat": 4,
 "nbformat_minor": 2
}
