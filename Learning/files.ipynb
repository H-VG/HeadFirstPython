{
 "cells": [
  {
   "cell_type": "code",
   "execution_count": 1,
   "metadata": {},
   "outputs": [],
   "source": [
    "import Swimclub\n",
    "import os"
   ]
  },
  {
   "cell_type": "code",
   "execution_count": 2,
   "metadata": {},
   "outputs": [],
   "source": [
    "swim_files = os.listdir(Swimclub.FOLDER)\n",
    "data = Swimclub.read_swim_data(\"Bill-18-100m-Back.txt\")\n"
   ]
  },
  {
   "cell_type": "code",
   "execution_count": 3,
   "metadata": {},
   "outputs": [],
   "source": [
    "swim_files.remove(\".DS_Store\")"
   ]
  },
  {
   "cell_type": "code",
   "execution_count": 4,
   "metadata": {},
   "outputs": [
    {
     "name": "stdout",
     "output_type": "stream",
     "text": [
      "['Abi-10-100m-Back.txt', 'Abi-10-100m-Breast.txt', 'Abi-10-50m-Back.txt', 'Abi-10-50m-Breast.txt', 'Abi-10-50m-Free.txt', 'Ali-12-100m-Back.txt', 'Ali-12-100m-Free.txt', 'Alison-14-100m-Breast.txt', 'Alison-14-100m-Free.txt', 'Aurora-13-50m-Free.txt', 'Bill-18-100m-Back.txt', 'Bill-18-200m-Back.txt', 'Blake-15-100m-Back.txt', 'Blake-15-100m-Fly.txt', 'Blake-15-100m-Free.txt', 'Calvin-9-50m-Back.txt', 'Calvin-9-50m-Fly.txt', 'Calvin-9-50m-Free.txt', 'Carl-15-100m-Back.txt', 'Chris-17-100m-Back.txt', 'Chris-17-100m-Breast.txt', 'Darius-13-100m-Back.txt', 'Darius-13-100m-Breast.txt', 'Darius-13-100m-Fly.txt', 'Darius-13-200m-IM.txt', 'Dave-17-100m-Free.txt', 'Dave-17-200m-Back.txt', 'Elba-14-100m-Free.txt', 'Emma-13-100m-Breast.txt', 'Emma-13-100m-Free.txt', 'Erika-15-100m-Breast.txt', 'Erika-15-100m-Free.txt', 'Erika-15-200m-Breast.txt', 'Hannah-13-100m-Back.txt', 'Hannah-13-100m-Free.txt', 'Katie-9-100m-Back.txt', 'Katie-9-100m-Breast.txt', 'Katie-9-100m-Free.txt', 'Katie-9-50m-Back.txt', 'Katie-9-50m-Breast.txt', 'Katie-9-50m-Fly.txt', 'Katie-9-50m-Free.txt', 'Lizzie-14-100m-Back.txt', 'Lizzie-14-100m-Free.txt', 'Maria-9-50m-Free.txt', 'Mike-15-100m-Back.txt', 'Mike-15-100m-Fly.txt', 'Mike-15-100m-Free.txt', 'Mike-15-200m-Free.txt', 'Mike-15-200m-IM.txt', 'Owen-15-100m-Free.txt', 'Ruth-13-100m-Back.txt', 'Ruth-13-100m-Free.txt', 'Ruth-13-200m-Back.txt', 'Ruth-13-200m-Free.txt', 'Ruth-13-400m-Free.txt', 'Tasmin-15-100m-Back.txt', 'Tasmin-15-100m-Breast.txt', 'Tasmin-15-100m-Free.txt', 'Tasmin-15-200m-Breast.txt']\n"
     ]
    }
   ],
   "source": [
    "print(swim_files)"
   ]
  },
  {
   "cell_type": "code",
   "execution_count": 5,
   "metadata": {},
   "outputs": [
    {
     "name": "stdout",
     "output_type": "stream",
     "text": [
      "1 processingAbi-10-100m-Back.txt\n",
      "2 processingAbi-10-100m-Breast.txt\n",
      "3 processingAbi-10-50m-Back.txt\n",
      "4 processingAbi-10-50m-Breast.txt\n",
      "5 processingAbi-10-50m-Free.txt\n",
      "6 processingAli-12-100m-Back.txt\n",
      "7 processingAli-12-100m-Free.txt\n",
      "8 processingAlison-14-100m-Breast.txt\n",
      "9 processingAlison-14-100m-Free.txt\n",
      "10 processingAurora-13-50m-Free.txt\n",
      "11 processingBill-18-100m-Back.txt\n",
      "12 processingBill-18-200m-Back.txt\n",
      "13 processingBlake-15-100m-Back.txt\n",
      "14 processingBlake-15-100m-Fly.txt\n",
      "15 processingBlake-15-100m-Free.txt\n",
      "16 processingCalvin-9-50m-Back.txt\n",
      "17 processingCalvin-9-50m-Fly.txt\n",
      "18 processingCalvin-9-50m-Free.txt\n",
      "19 processingCarl-15-100m-Back.txt\n",
      "20 processingChris-17-100m-Back.txt\n",
      "21 processingChris-17-100m-Breast.txt\n",
      "22 processingDarius-13-100m-Back.txt\n",
      "23 processingDarius-13-100m-Breast.txt\n",
      "24 processingDarius-13-100m-Fly.txt\n",
      "25 processingDarius-13-200m-IM.txt\n",
      "26 processingDave-17-100m-Free.txt\n",
      "27 processingDave-17-200m-Back.txt\n",
      "28 processingElba-14-100m-Free.txt\n",
      "29 processingEmma-13-100m-Breast.txt\n",
      "30 processingEmma-13-100m-Free.txt\n",
      "31 processingErika-15-100m-Breast.txt\n",
      "32 processingErika-15-100m-Free.txt\n",
      "33 processingErika-15-200m-Breast.txt\n",
      "34 processingHannah-13-100m-Back.txt\n",
      "35 processingHannah-13-100m-Free.txt\n",
      "36 processingKatie-9-100m-Back.txt\n",
      "37 processingKatie-9-100m-Breast.txt\n",
      "38 processingKatie-9-100m-Free.txt\n",
      "39 processingKatie-9-50m-Back.txt\n",
      "40 processingKatie-9-50m-Breast.txt\n",
      "41 processingKatie-9-50m-Fly.txt\n",
      "42 processingKatie-9-50m-Free.txt\n",
      "43 processingLizzie-14-100m-Back.txt\n",
      "44 processingLizzie-14-100m-Free.txt\n",
      "45 processingMaria-9-50m-Free.txt\n",
      "46 processingMike-15-100m-Back.txt\n",
      "47 processingMike-15-100m-Fly.txt\n",
      "48 processingMike-15-100m-Free.txt\n",
      "49 processingMike-15-200m-Free.txt\n",
      "50 processingMike-15-200m-IM.txt\n",
      "51 processingOwen-15-100m-Free.txt\n",
      "52 processingRuth-13-100m-Back.txt\n",
      "53 processingRuth-13-100m-Free.txt\n",
      "54 processingRuth-13-200m-Back.txt\n",
      "55 processingRuth-13-200m-Free.txt\n",
      "56 processingRuth-13-400m-Free.txt\n",
      "57 processingTasmin-15-100m-Back.txt\n",
      "58 processingTasmin-15-100m-Breast.txt\n",
      "59 processingTasmin-15-100m-Free.txt\n",
      "60 processingTasmin-15-200m-Breast.txt\n"
     ]
    }
   ],
   "source": [
    "for n, sw in enumerate(swim_files,1):\n",
    "    print(n, \"processing\" + sw)\n",
    "    data = Swimclub.read_swim_data(sw)"
   ]
  },
  {
   "cell_type": "code",
   "execution_count": null,
   "metadata": {},
   "outputs": [],
   "source": []
  }
 ],
 "metadata": {
  "kernelspec": {
   "display_name": "Python 3",
   "language": "python",
   "name": "python3"
  },
  "language_info": {
   "codemirror_mode": {
    "name": "ipython",
    "version": 3
   },
   "file_extension": ".py",
   "mimetype": "text/x-python",
   "name": "python",
   "nbconvert_exporter": "python",
   "pygments_lexer": "ipython3",
   "version": "3.12.3"
  }
 },
 "nbformat": 4,
 "nbformat_minor": 2
}
